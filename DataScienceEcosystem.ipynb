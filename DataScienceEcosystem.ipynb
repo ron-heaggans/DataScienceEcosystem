{
 "cells": [
  {
   "cell_type": "markdown",
   "id": "c02cab9d",
   "metadata": {},
   "source": [
    "# Data Science Tools and Ecosystem"
   ]
  },
  {
   "cell_type": "markdown",
   "id": "eaa14b87",
   "metadata": {},
   "source": [
    "In this notebook, Data Science and Ecosystems are summarized."
   ]
  },
  {
   "cell_type": "markdown",
   "id": "412060fc",
   "metadata": {},
   "source": [
    " __Objectives__\n",
    " \n",
    " - Popular Languages that Data Scientist use\n",
    " - Commonly Used Libraries used by Data Scientists\n",
    " - Data Science Tools\n"
   ]
  },
  {
   "cell_type": "markdown",
   "id": "85166fb8",
   "metadata": {},
   "source": [
    "Popular languages that Data Scientists use are:"
   ]
  },
  {
   "cell_type": "markdown",
   "id": "807ba4d6",
   "metadata": {},
   "source": [
    "1. Python\n",
    "2. R\n",
    "3. SQL\n",
    "4. Julia"
   ]
  },
  {
   "cell_type": "markdown",
   "id": "0f551b3a",
   "metadata": {},
   "source": [
    "Commonly used libraries used by Data Scientists include:  "
   ]
  },
  {
   "cell_type": "markdown",
   "id": "55beafb7",
   "metadata": {},
   "source": [
    "    1. Pandas\n",
    "    2. Matplotlib\n",
    "    3. NumPy\n",
    "    4. GGplot2"
   ]
  },
  {
   "cell_type": "markdown",
   "id": "912d5978",
   "metadata": {},
   "source": [
    "# Data Science Tools\n",
    "\n",
    "- Rstudio\n",
    "- JupyterLab\n",
    "- VS Code"
   ]
  },
  {
   "cell_type": "markdown",
   "id": "be8f19f4",
   "metadata": {},
   "source": [
    "### Below are a few examples of evaluating arithmetic expressions in Python"
   ]
  },
  {
   "cell_type": "code",
   "execution_count": 3,
   "id": "2db8befa",
   "metadata": {},
   "outputs": [
    {
     "data": {
      "text/plain": [
       "17"
      ]
     },
     "execution_count": 3,
     "metadata": {},
     "output_type": "execute_result"
    }
   ],
   "source": [
    "#This is a simple arithmetic expression to multiply then add integers\n",
    "\n",
    "(3*4)+5"
   ]
  },
  {
   "cell_type": "code",
   "execution_count": 4,
   "id": "ffe1d0d6",
   "metadata": {},
   "outputs": [
    {
     "data": {
      "text/plain": [
       "3.3333333333333335"
      ]
     },
     "execution_count": 4,
     "metadata": {},
     "output_type": "execute_result"
    }
   ],
   "source": [
    "#This will convert 200 minutes to hours by dividing by 60\n",
    "\n",
    "200/60\n"
   ]
  },
  {
   "cell_type": "markdown",
   "id": "7edeb2c1",
   "metadata": {},
   "source": [
    "## Author\n",
    "Ronald\n"
   ]
  },
  {
   "cell_type": "code",
   "execution_count": null,
   "id": "f66b4ee1",
   "metadata": {},
   "outputs": [],
   "source": []
  }
 ],
 "metadata": {
  "kernelspec": {
   "display_name": "Python 3 (ipykernel)",
   "language": "python",
   "name": "python3"
  },
  "language_info": {
   "codemirror_mode": {
    "name": "ipython",
    "version": 3
   },
   "file_extension": ".py",
   "mimetype": "text/x-python",
   "name": "python",
   "nbconvert_exporter": "python",
   "pygments_lexer": "ipython3",
   "version": "3.11.3"
  }
 },
 "nbformat": 4,
 "nbformat_minor": 5
}
